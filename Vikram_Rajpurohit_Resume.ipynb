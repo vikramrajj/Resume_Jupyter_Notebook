{
 "cells": [
  {
   "cell_type": "markdown",
   "metadata": {
    "id": "yrYNKhrl6DuY"
   },
   "source": [
    "# Vikram Rajpurohit\n",
    "\n",
    "\n"
   ]
  },
  {
   "cell_type": "markdown",
   "metadata": {
    "id": "m-f5yUalHJja"
   },
   "source": [
    "  ##                      **Cover Letter**\n",
    "\n",
    "            As a Data Science Enthusiast, I feel privileged to have found this opportunity to apply as a data analyst in a \n",
    "            meaningful industry and a passionate company. As a continuous follower of the science & analytics field, \n",
    "            my qualifications align with the practical and technical skills that Company seeks.Being an ardent reader of \n",
    "            Tech Startup news and analyzing the Business Forecasting gives me immense pleasure.\n",
    "\n",
    "\n",
    "            I just love the whole process of gathering and interpreting data from a variety of sources to help the\n",
    "            organization improve the quality of sales and enhance the customer experience. Coming from a Technical\n",
    "            Support background I understand how much important data plays a role in business strategy and how it can\n",
    "            be elevated to improve the customer experience in Sales, Customer Retention and Project planning.\n",
    "\n",
    "\n",
    "            I would be thrilled ve a part of your esteemed company where my work would be highly beneficial to the\n",
    "            organization. Please refer to my attached resume for additional information regarding my proficiencies and\n",
    "            achievements. Given an opportunity, I can assure you that I would be a valuable employee over the years to come.\n",
    "\n",
    "            Thank you for your time and consideration.\n",
    "            Yours sincerely,\n",
    "            Vikram BhawarSingh Rajpurohit."
   ]
  },
  {
   "cell_type": "markdown",
   "metadata": {
    "id": "EDX4aq206Duf"
   },
   "source": [
    "### Resume\n",
    "- Name: Vikram B Rajpurohit\n",
    "- <a href=\"imvikramraj95@gmail.com\">Email ID</a>\n",
    "- Phone: 7021800020 / 8976674161\n",
    "<img src=\"https://1000logos.net/wp-content/uploads/2017/03/Linkedin-Logo.png\"  width=\"50\"/>\n",
    "\n",
    "- <a href=\"https://www.linkedin.com/in/vikram-rajpurohit-a486b17a\">LinkedIn</a>                                                                  \n",
    "\n",
    "  <img src=\"https://image.flaticon.com/icons/png/512/25/25231.png\"  width=\"50\"/>\n",
    "\n",
    "- <a href=\"https://github.com/vikramrajja\">GitHub</a>\n",
    "\n",
    "  <img src=\"https://cdn4.iconfinder.com/data/icons/social-media-icons-the-circle-set/48/twitter_circle-512.png\"  width=\"50\"/>\n",
    "\n",
    "- <a href=\"https://twitter.com/imvikramraj\">Twitter</a>\n",
    "\n",
    "  <img src=\"https://cdn1.iconfinder.com/data/icons/social-media-circle-7/512/Circled_Medium_svg5-512.png\"  width=\"50\"/>\n",
    "\n",
    "- <a href=\"https://medium.com/@vikramraj\">Medium</a>\n",
    "\n",
    "  <img src=\"https://cdn4.iconfinder.com/data/icons/logos-and-brands/512/189_Kaggle_logo_logos-512.png\"  width=\"50\"/>\n",
    "\n",
    "- <a href=\"https://www.kaggle.com/iamvikramraj\">Kaggle</a>"
   ]
  },
  {
   "cell_type": "markdown",
   "metadata": {
    "id": "CI2w5YkR6Dug"
   },
   "source": [
    "###Skills\n",
    "- Programming languages\n",
    "    - Python (Data Science Lib)\n",
    "    - SQL (moderate)\n",
    "    - Bash\\Linux (Hands-on)\n",
    "    - HTML/CSS (working knowledge)\n",
    "- Libraries\n",
    "    - Python\n",
    "        - Numpy\n",
    "        - Pandas\n",
    "        - sklearn\n",
    "        - matplotlib\n",
    "        - Scipy\n",
    "        - Anaconda\n",
    "- IDEs\n",
    "    - Spyder\n",
    "    - Jupyter Notebook\n",
    "    - Terminal\n",
    "- Version Control Systems\n",
    "    - Git / GitHub\n",
    "- Databases\n",
    "    - MySQL\n",
    "- Operating Systems\n",
    "    - Windows 7/8/8.1/10\n",
    "    - Fedora 16.04\n",
    "    - Mac OS\n",
    "- Soft skills\n",
    "    - Self-taught everything, can learn anything quickly\n",
    "    - Easy to get along with, friendly\n",
    "--------------------------------------------------------------------------------\n",
    "\n",
    "## Qualification \n",
    "\n",
    "--------------------------------------------------------------------------------\n",
    "\n",
    "|Institute Level|Percentage (CGPA)|\n",
    "|------|------|\n",
    "|SSC   |92.73%    |\n",
    "|Diploma     |86.34%     |\n",
    "|Degree (B.E in Comp)| 6.78 CGPA (58%)"
   ]
  },
  {
   "cell_type": "markdown",
   "metadata": {
    "id": "6J604Wsk6Dug"
   },
   "source": [
    "--------------------------------------------------------------------------------\n",
    "\n",
    "### Work Experience (3 Years)\n",
    "\n",
    "--------------------------------------------------------------------------------"
   ]
  },
  {
   "cell_type": "markdown",
   "metadata": {
    "id": "eWfeCH6y6Duh"
   },
   "source": [
    "\n",
    "\n",
    "   - Assistant System Engg at TCS from Nov 2016 to Dec 2017\n",
    "   - Worked at Startup from Jan 2018 to June 2018 (Ultraskills)\n",
    "   - Senior Support Engg at Tech M from July 2018 to April 2019\n",
    "   - Worked as SEM at Wipro on Pilot Project from July 2019 to Dec 2019\n",
    "   - Currently at ZS Associates (Jan 2012 - )\n",
    "   \n",
    "\n",
    "\n",
    "\n",
    "\n",
    "\n",
    "\n"
   ]
  },
  {
   "cell_type": "markdown",
   "metadata": {
    "id": "f71LUYU_6Duh"
   },
   "source": [
    "--------------------------------------------------------------------------------\n",
    "\n",
    "### Projects\n",
    "\n",
    "--------------------------------------------------------------------------------\n",
    "\n",
    "#### **Predicting the Bank Customer Churn DataSet**\n",
    "\n",
    "- Tools Used- Python, Machine Learning\n",
    "- Bank Customer Data Set study and Visualization.\n",
    "- User Behaviour study using services used\n",
    "- Applying Technique for Dataset Balancing and other technique\n",
    "- Using different algo for Better accuracy like Log Reg, Random\n",
    "Forest and Decision Tree\n",
    "- Link: https://github.com/vikramrajj/Capstone-Project/blob/main/Capstone_1.ipynb\n",
    "\n",
    "\n",
    "#### **Predicting the Travel Insurance Opt-in DataSet**\n",
    "- Travel Insurance Data Set study and Visualization.\n",
    "- Travel Booking and Insurance Opt-in Pattern\n",
    "- Applying Technique for Dataset Balancing and other technique\n",
    "- Using different algo for Better accuracy like Random Forest ,\n",
    "Adaboost etc.\n",
    "- Link: https://github.com/vikramrajj/Capstone-Project/blob/main/Capstone_2.ipynb\n",
    "\n",
    "\n"
   ]
  },
  {
   "cell_type": "markdown",
   "metadata": {
    "id": "oTtIov4D6Dui"
   },
   "source": [
    "--------------------------------------------------------------------------------\n",
    "\n",
    "### Interests\n",
    "\n",
    "--------------------------------------------------------------------------------\n",
    "- Games\n",
    "    - Clash of Clan (Strategy) \n",
    "- Sports\n",
    "    - Cricket algorithms and analysis\n",
    "    - Reading Historical Novels\n",
    "- Writing & Reading\n",
    "    - Well Researched Article\n",
    "    - Links :\n",
    "     * https://www.startup-buzz.com/singles-day-alibaba-hits-double-figures-hours/ (Freelance)\n",
    "     * https://www.startup-buzz.com/ola-cabs-aims-profitability-2019/ (Frelance)\n"
   ]
  },
  {
   "cell_type": "markdown",
   "metadata": {
    "id": "iCiWo5Ve6Dui"
   },
   "source": [
    "--------------------------------------------------------------------------------\n",
    "\n",
    "### Awards\n",
    "\n",
    "--------------------------------------------------------------------------------\n",
    "- Technical Paper Presentation State level event based on NFC.\n",
    "- Elected as General Secretary for College cultural Event\n",
    "Consecutive year."
   ]
  },
  {
   "cell_type": "code",
   "execution_count": null,
   "metadata": {
    "id": "e9TwmAm9GO3V"
   },
   "outputs": [],
   "source": []
  }
 ],
 "metadata": {
  "colab": {
   "collapsed_sections": [],
   "name": "Vikram_Rajpurohit_Resume.ipynb",
   "provenance": []
  },
  "kernelspec": {
   "display_name": "Python 3",
   "language": "python",
   "name": "python3"
  },
  "language_info": {
   "codemirror_mode": {
    "name": "ipython",
    "version": 3
   },
   "file_extension": ".py",
   "mimetype": "text/x-python",
   "name": "python",
   "nbconvert_exporter": "python",
   "pygments_lexer": "ipython3",
   "version": "3.8.5"
  }
 },
 "nbformat": 4,
 "nbformat_minor": 4
}
